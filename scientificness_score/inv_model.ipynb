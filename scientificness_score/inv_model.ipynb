{
 "cells": [
  {
   "cell_type": "markdown",
   "id": "e15eaea1-19d3-4590-b010-622d5e5037da",
   "metadata": {},
   "source": [
    "# Load Dependencies\n"
   ]
  },
  {
   "cell_type": "code",
   "execution_count": 1,
   "id": "9834d474-97c1-48a0-82f5-6b9f44cb0e22",
   "metadata": {},
   "outputs": [],
   "source": [
    " # dependencies\n",
    "import torch\n",
    "from torch.utils.data import Dataset, DataLoader\n",
    "from tqdm import tqdm\n",
    "import pandas as pd\n",
    "import numpy as np\n",
    "import json\n",
    "import transformers\n",
    "from sklearn import metrics\n",
    "import matplotlib.pyplot as plt\n",
    "from math import ceil\n",
    "import re\n",
    "import wandb\n",
    "from transformers import AutoModelForSequenceClassification, AutoModel\n"
   ]
  },
  {
   "cell_type": "code",
   "execution_count": 2,
   "id": "98014e9d-f88f-4514-8145-ec47a6824951",
   "metadata": {
    "tags": []
   },
   "outputs": [],
   "source": [
    "torch_device = 'cuda:0' if torch.cuda.is_available() else 'cpu'"
   ]
  },
  {
   "cell_type": "markdown",
   "id": "9d9d3305-d22d-4759-beff-857c2d12a8d1",
   "metadata": {},
   "source": [
    "# Load Tokenizer and Model"
   ]
  },
  {
   "cell_type": "code",
   "execution_count": 4,
   "id": "fb6d4982-1a2d-49c3-8076-6bfe3f14db16",
   "metadata": {},
   "outputs": [],
   "source": [
    "tokenizer = transformers.BertTokenizer.from_pretrained(\"allenai/scibert_scivocab_cased\")\n",
    "#tokenizer = transformers.BertTokenizer.from_pretrained(\"bert-base-uncased\")"
   ]
  },
  {
   "cell_type": "code",
   "execution_count": 5,
   "id": "110d9334-1e5e-41a9-bc52-d421178e045a",
   "metadata": {
    "tags": []
   },
   "outputs": [],
   "source": [
    "model = AutoModelForSequenceClassification.from_pretrained(\"Models/BertFull\")"
   ]
  },
  {
   "cell_type": "markdown",
   "id": "14df39ec-7ad4-48e9-8e61-0b791af3850a",
   "metadata": {},
   "source": [
    "# Create Dataset for Collate Function"
   ]
  },
  {
   "cell_type": "code",
   "execution_count": 6,
   "id": "4b13a014-a689-45aa-bcf8-807e61d34b55",
   "metadata": {
    "tags": []
   },
   "outputs": [],
   "source": [
    "class CustomDataset(Dataset):\n",
    "# to create training and validation dataset\n",
    "# input: (BERT) tokenizer, dataframe, max_length\n",
    "# output: tokenized outputs (ids, attention_mask, token_type_ids) and tags used for BERT training\n",
    "\n",
    "    def __init__(self, dataframe, tokenizer, max_len):\n",
    "        self.tokenizer = tokenizer\n",
    "        self.data = dataframe\n",
    "        self.text = dataframe.text\n",
    "        self.targets = dataframe.label\n",
    "        #self.targets = self.data.llist\n",
    "        self.max_len = max_len\n",
    "\n",
    "    def __len__(self):\n",
    "        return len(self.data)\n",
    "\n",
    "    def __getitem__(self, index):\n",
    "\n",
    "        inputs = self.tokenizer.encode_plus(\n",
    "            self.text[index],\n",
    "            None,\n",
    "            add_special_tokens=True,\n",
    "            max_length=self.max_len,\n",
    "            truncation=True,\n",
    "            #pad_to_max_length=True,\n",
    "            padding = \"max_length\",\n",
    "            return_token_type_ids=True\n",
    "        )\n",
    "        ids = inputs['input_ids']\n",
    "        mask = inputs['attention_mask']\n",
    "        token_type_ids = inputs[\"token_type_ids\"]\n",
    "\n",
    "\n",
    "        return {\n",
    "            'ids': torch.tensor(ids, dtype=torch.long),\n",
    "            'mask': torch.tensor(mask, dtype=torch.long),\n",
    "            'token_type_ids': torch.tensor(token_type_ids, dtype=torch.long),\n",
    "            'targets': torch.tensor(self.targets[index], dtype=torch.float)\n",
    "        }"
   ]
  },
  {
   "cell_type": "markdown",
   "id": "b6583df8-4321-41e8-b856-b1468b3df297",
   "metadata": {},
   "source": [
    "# Load and Prepare Data"
   ]
  },
  {
   "cell_type": "code",
   "execution_count": 7,
   "id": "5a686fb4-3c28-4d60-b018-df93f52daa03",
   "metadata": {
    "tags": []
   },
   "outputs": [],
   "source": [
    "SCI_PATHS : list() = ['/media/nvme3n1/proj_scisen/datasets/SciSen-as.txt',\n",
    "                        '/media/nvme3n1/proj_scisen/datasets/SciSen-a.txt',\n",
    "                        '/media/nvme3n1/proj_scisen/datasets/SciSen-b.txt',\n",
    "                        '/media/nvme3n1/proj_scisen/datasets/SciSen-c.txt']\n",
    "NON_SCI_PATHS: list() = ['/media/nvme3n1/proj_scisen/datasets/ScifiSen1.txt',\n",
    "                          '/media/nvme3n1/proj_scisen/datasets/RedditSen.txt',\n",
    "                          \"/media/nvme3n1/proj_scisen/datasets/ukraineTweets.txt\",\n",
    "                          \"/media/nvme3n1/proj_scisen/datasets/ScifiSen9.txt\",\n",
    "                          '/media/nvme3n1/proj_scisen/datasets/ScifiSen2.txt']"
   ]
  },
  {
   "cell_type": "markdown",
   "id": "52f08399-1179-4b0b-8114-aaea5aa8a324",
   "metadata": {},
   "source": [
    "## Read Sentences\n",
    "\n",
    "For the evaluation of the Model, we take a 10% cut of all the Scientific Sentences. These do not overlap with the Training data.\n",
    "Additionally, we also load non scientific Sentences which have not been used for training."
   ]
  },
  {
   "cell_type": "code",
   "execution_count": 8,
   "id": "19917e65-1e46-4809-98de-5a96bc18192c",
   "metadata": {
    "tags": []
   },
   "outputs": [],
   "source": [
    "sci_sentences : list() = []\n",
    "\n",
    "eval_dict= {0 : None,    #AS\n",
    "            1 : None,    #A\n",
    "            2 : None,    #B\n",
    "            3 : None,    #C\n",
    "            4 : None}    #Non-Scientific\n",
    "\n",
    "rank_sentences : list() = []\n",
    "\n",
    "for paths in range(0, len(SCI_PATHS)):                 #Read Scientific Sentences\n",
    "    with open(SCI_PATHS[paths]) as f:\n",
    "        for line in f:\n",
    "            rank_sentences.append(line)\n",
    "    eval_dict[paths] = rank_sentences[0:int(len(rank_sentences)*0.1)]\n",
    "    rank_sentences=[]\n",
    "\n",
    "    \n",
    "sentences = []\n",
    "with open(NON_SCI_PATHS[3]) as f:                     #Read non Scientific Sentences\n",
    "    for line in f:\n",
    "        sentences.append(line)\n",
    "    eval_dict[4] = sentences"
   ]
  },
  {
   "cell_type": "markdown",
   "id": "79e63ebf-5e3f-4c66-8f2d-798190139cd0",
   "metadata": {},
   "source": [
    "## Label Data\n",
    " - Scientific Sentences -> 0.9\n",
    " - non-Scientific Sentences -> 0.1"
   ]
  },
  {
   "cell_type": "code",
   "execution_count": 33,
   "id": "81880fc3-7e18-4a0c-b4b9-24f2a5121535",
   "metadata": {
    "tags": []
   },
   "outputs": [],
   "source": [
    "\n",
    "def sci_label(sentences):\n",
    "    input_list : list() = []\n",
    "    for i in tqdm(range(0,int(len(sentences)))):\n",
    "            input_list.append({**{'text': sentences[i].rstrip(\"\\n\")}, 'label':0.9})\n",
    "    return input_list\n",
    "\n",
    "def non_sci_label(sentence):\n",
    "    input_list : list() = []\n",
    "    for i in tqdm(range(0,int(len(sentences)))):\n",
    "            input_list.append({**{'text': sentences[i].rstrip(\"\\n\")}, 'label':0.1})\n",
    "    return input_list"
   ]
  },
  {
   "cell_type": "code",
   "execution_count": 34,
   "id": "3ae960cc-9771-4c1d-bffd-f2fe0d399d9b",
   "metadata": {
    "tags": []
   },
   "outputs": [
    {
     "name": "stderr",
     "output_type": "stream",
     "text": [
      "100%|████████████████████████████████████████████████████████████████████████████████████████████████████████████████████████████████████████████████████████████████████████████████████████████| 284762/284762 [00:00<00:00, 1678858.28it/s]\n"
     ]
    },
    {
     "name": "stdout",
     "output_type": "stream",
     "text": [
      "<class 'list'>\n"
     ]
    },
    {
     "name": "stderr",
     "output_type": "stream",
     "text": [
      "100%|██████████████████████████████████████████████████████████████████████████████████████████████████████████████████████████████████████████████████████████████████████████████████████████████| 55314/55314 [00:00<00:00, 1564157.97it/s]\n"
     ]
    },
    {
     "name": "stdout",
     "output_type": "stream",
     "text": [
      "<class 'list'>\n"
     ]
    },
    {
     "name": "stderr",
     "output_type": "stream",
     "text": [
      "100%|████████████████████████████████████████████████████████████████████████████████████████████████████████████████████████████████████████████████████████████████████████████████████████████████| 7382/7382 [00:00<00:00, 1300939.17it/s]\n"
     ]
    },
    {
     "name": "stdout",
     "output_type": "stream",
     "text": [
      "<class 'list'>\n"
     ]
    },
    {
     "name": "stderr",
     "output_type": "stream",
     "text": [
      "100%|████████████████████████████████████████████████████████████████████████████████████████████████████████████████████████████████████████████████████████████████████████████████████████████████| 3006/3006 [00:00<00:00, 1130465.15it/s]\n"
     ]
    },
    {
     "name": "stdout",
     "output_type": "stream",
     "text": [
      "<class 'list'>\n"
     ]
    },
    {
     "name": "stderr",
     "output_type": "stream",
     "text": [
      "100%|████████████████████████████████████████████████████████████████████████████████████████████████████████████████████████████████████████████████████████████████████████████████████████████| 100001/100001 [00:00<00:00, 1323705.42it/s]\n"
     ]
    }
   ],
   "source": [
    "labeled = dict()\n",
    "for rank in eval_dict:\n",
    "    if(rank == 4): \n",
    "        labeled[rank] = non_sci_label(eval_dict[rank])\n",
    "    else:\n",
    "        labeled[rank] = label(eval_dict[rank])"
   ]
  },
  {
   "cell_type": "markdown",
   "id": "2c2d12c5-cea9-4cbd-8a68-7a1cb418899a",
   "metadata": {},
   "source": [
    "## Create Dataset"
   ]
  },
  {
   "cell_type": "code",
   "execution_count": 11,
   "id": "7b9826a1-a2da-4aa9-9e0a-f164d47ec0dc",
   "metadata": {
    "tags": []
   },
   "outputs": [],
   "source": [
    "eval_df = dict()\n",
    "for rank in labeled: \n",
    "    eval_df[rank] = pd.DataFrame(labeled[rank])"
   ]
  },
  {
   "cell_type": "code",
   "execution_count": 12,
   "id": "4a0ec436-4e6c-4293-b7b7-c4db67f02281",
   "metadata": {
    "tags": []
   },
   "outputs": [],
   "source": [
    "testing_sets = dict()\n",
    "for rank in eval_df:\n",
    "    testing_sets[rank] = CustomDataset(eval_df[rank], tokenizer, 512)"
   ]
  },
  {
   "cell_type": "code",
   "execution_count": 13,
   "id": "653e0e0a-109e-4161-8ea7-c0b2fabff080",
   "metadata": {
    "tags": []
   },
   "outputs": [],
   "source": [
    "test_params = {'batch_size': 4,\n",
    "                'shuffle': True,\n",
    "                'num_workers': 0\n",
    "                }\n",
    "\n",
    "\n",
    "testing_loaders = dict()\n",
    "for rank in eval_df:\n",
    "    testing_loaders[rank] = DataLoader(testing_sets[rank], **test_params)"
   ]
  },
  {
   "cell_type": "markdown",
   "id": "b8b79fc6-881f-48b0-be7c-51a4bfaae3bf",
   "metadata": {},
   "source": [
    "# Get Model Output\n"
   ]
  },
  {
   "cell_type": "code",
   "execution_count": 14,
   "id": "7a6ac2b0-f121-470c-99ff-cc21a194479d",
   "metadata": {
    "tags": []
   },
   "outputs": [
    {
     "name": "stdout",
     "output_type": "stream",
     "text": [
      "--------------- 0 ---------------\n"
     ]
    },
    {
     "name": "stderr",
     "output_type": "stream",
     "text": [
      "100%|█████████████████████████████████████| 71191/71191 [15:48<00:00, 75.07it/s]\n"
     ]
    },
    {
     "name": "stdout",
     "output_type": "stream",
     "text": [
      "tensor([0.1041, 0.1005, 0.1074,  ..., 0.1780, 0.1124, 0.1009], device='cuda:0')\n",
      "tensor([0.9000, 0.9000, 0.9000,  ..., 0.9000, 0.9000, 0.9000], device='cuda:0')\n",
      "tensor(0.6181, device='cuda:0')\n",
      "--------------- 1 ---------------\n"
     ]
    },
    {
     "name": "stderr",
     "output_type": "stream",
     "text": [
      "100%|█████████████████████████████████████| 13829/13829 [03:04<00:00, 75.14it/s]\n"
     ]
    },
    {
     "name": "stdout",
     "output_type": "stream",
     "text": [
      "tensor([0.1080, 0.1608, 0.1041,  ..., 0.1016, 0.1488, 0.1151], device='cuda:0')\n",
      "tensor([0.9000, 0.9000, 0.9000,  ..., 0.9000, 0.9000, 0.9000], device='cuda:0')\n",
      "tensor(0.6204, device='cuda:0')\n",
      "--------------- 2 ---------------\n"
     ]
    },
    {
     "name": "stderr",
     "output_type": "stream",
     "text": [
      "100%|███████████████████████████████████████| 1846/1846 [00:24<00:00, 74.95it/s]\n"
     ]
    },
    {
     "name": "stdout",
     "output_type": "stream",
     "text": [
      "tensor([0.1098, 0.1019, 0.1181,  ..., 0.1021, 0.1030, 0.1130], device='cuda:0')\n",
      "tensor([0.9000, 0.9000, 0.9000,  ..., 0.9000, 0.9000, 0.9000], device='cuda:0')\n",
      "tensor(0.6199, device='cuda:0')\n",
      "--------------- 3 ---------------\n"
     ]
    },
    {
     "name": "stderr",
     "output_type": "stream",
     "text": [
      "100%|█████████████████████████████████████████| 752/752 [00:09<00:00, 75.70it/s]\n"
     ]
    },
    {
     "name": "stdout",
     "output_type": "stream",
     "text": [
      "tensor([0.0999, 0.1017, 0.1323,  ..., 0.1104, 0.1068, 0.1017], device='cuda:0')\n",
      "tensor([0.9000, 0.9000, 0.9000,  ..., 0.9000, 0.9000, 0.9000], device='cuda:0')\n",
      "tensor(0.6198, device='cuda:0')\n",
      "--------------- 4 ---------------\n"
     ]
    },
    {
     "name": "stderr",
     "output_type": "stream",
     "text": [
      "100%|█████████████████████████████████████| 25001/25001 [05:21<00:00, 77.87it/s]"
     ]
    },
    {
     "name": "stdout",
     "output_type": "stream",
     "text": [
      "tensor([0.1029, 0.1021, 0.8338,  ..., 0.0974, 0.1012, 0.0991], device='cuda:0')\n",
      "tensor([0.9000, 0.9000, 0.9000,  ..., 0.9000, 0.9000, 0.9000], device='cuda:0')\n",
      "tensor(0.6036, device='cuda:0')\n"
     ]
    },
    {
     "name": "stderr",
     "output_type": "stream",
     "text": [
      "\n"
     ]
    }
   ],
   "source": [
    "from torch.nn.functional import mse_loss\n",
    "\n",
    "model.to(torch_device)\n",
    "\n",
    "eval_loaders = testing_loaders\n",
    "outputs_by_rank = dict()\n",
    "targets_by_rank = dict()\n",
    "\n",
    "for evalset in eval_loaders:\n",
    "    print(f\"--------------- {evalset} ---------------\")\n",
    "    model.eval()\n",
    "    losses = []\n",
    "    fin_targets = torch.empty((0)).to(torch_device)\n",
    "    fin_outputs = torch.empty((0)).to(torch_device)\n",
    "    with torch.no_grad():\n",
    "        for _, data in enumerate(tqdm(eval_loaders[evalset], 0)):\n",
    "            ids = data['ids'].to(torch_device, dtype=torch.long)\n",
    "            mask = data['mask'].to(torch_device, dtype=torch.long)\n",
    "            token_type_ids = data['token_type_ids'].to(torch_device, dtype = torch.long)\n",
    "            targets = data['targets'].to(torch_device, dtype=torch.float)\n",
    "            outputs = model(ids, mask,token_type_ids)\n",
    "            out = [out.detach().cpu().numpy()[0] for out in outputs[0]]\n",
    "            out = torch.Tensor(out).to(torch_device)\n",
    "            fin_targets = torch.cat([fin_targets, targets], dim=0)\n",
    "            fin_outputs = torch.cat([fin_outputs, out], dim=0)\n",
    "    print(fin_outputs)\n",
    "    print(fin_targets)\n",
    "    loss = mse_loss(fin_outputs, fin_targets)\n",
    "    print(loss)\n",
    "    outputs_by_rank[evalset] = [out for out in fin_outputs.cpu().numpy()]\n",
    "            #fin_targets.extend(targets.cpu().detach().numpy().tolist())\n",
    "            #fin_outputs.extend(torch.sigmoid(outputs).cpu().detach().numpy().tolist())\n",
    "#percent, the SciBERT model\n",
    "    #outputs = fin_outputs\n",
    "    #targets = fin_targets  "
   ]
  },
  {
   "cell_type": "markdown",
   "id": "20ad9017-6f59-4a5b-a3f7-4625963099af",
   "metadata": {},
   "source": [
    "# Run Analysis\n",
    "\n",
    "Calculate average Score and the Standard deviation and export them to text file and as pickled object"
   ]
  },
  {
   "cell_type": "code",
   "execution_count": 19,
   "id": "8926918e-3ab8-4337-9ea6-77b8300a497f",
   "metadata": {
    "tags": []
   },
   "outputs": [],
   "source": [
    "import pickle\n",
    "class Analysis(object):\n",
    "    def __init__(self, values, average, sd):\n",
    "        self.values = values\n",
    "        self.average = average\n",
    "        self.sd = sd\n",
    "        \n",
    "    def __enter__(self):\n",
    "        return __reps__(self)\n",
    "\n",
    "    def __exit__(self, type, value, tb):\n",
    "        self.stream.close()\n",
    "        \n",
    "    def __repr__(self):\n",
    "        return \"avg: \" + str(self.average) + \"\\nStandDev: \" + str(self.sd) + \"\\nValues: \" + str(self.values)\n",
    "    \n"
   ]
  },
  {
   "cell_type": "code",
   "execution_count": 15,
   "id": "8752a0ad-6025-4c1d-9d5a-1d23b8c6fcd8",
   "metadata": {
    "tags": []
   },
   "outputs": [],
   "source": [
    "scores = dict()\n",
    "\n",
    "for rank in outputs_by_rank:\n",
    "    score_list : [int] = list()\n",
    "    for score in outputs_by_rank[rank]:\n",
    "        score_list = score_list + [score]\n",
    "    scores[rank] = score_list\n",
    "    "
   ]
  },
  {
   "cell_type": "code",
   "execution_count": 16,
   "id": "7ff08902-8c11-49f3-8744-64b918e1a5f1",
   "metadata": {},
   "outputs": [],
   "source": [
    "def average(values):\n",
    "    averageScore = 0.0\n",
    "    for score in values:\n",
    "        averageScore = averageScore + score\n",
    "    averageScore = averageScore / len(values)\n",
    "    return averageScore"
   ]
  },
  {
   "cell_type": "code",
   "execution_count": 17,
   "id": "27ad9de7-3942-4ef6-a92f-1a8ecb65e7af",
   "metadata": {
    "tags": []
   },
   "outputs": [],
   "source": [
    "import math\n",
    "def standDev(values, averageScore):\n",
    "    sd = 0.0\n",
    "    for score in values:\n",
    "        sd = sd + abs(averageScore - score)**2 \n",
    "    sd = sd/len(values)\n",
    "    sd = math.sqrt(sd)\n",
    "    return sd\n",
    "\n",
    "    "
   ]
  },
  {
   "cell_type": "code",
   "execution_count": 18,
   "id": "26c74d39-97f8-452a-8e2a-65689c89d9e4",
   "metadata": {
    "tags": []
   },
   "outputs": [],
   "source": [
    "\n",
    "def export(values, avg, sd):\n",
    "    with open(\"SentenceEvals/SciBert\"+\"-\"+str(rank), \"w\") as target: \n",
    "        target.write(\"Mean :\\n\" + str(avg) +\"\\n\")\n",
    "        target.write(\"Standard Deviation:\\n\" + str(sd) + \"\\n\\n\")\n",
    "        target.write(\"Values:\\n\" + str(values) + \"\\n\\n\\n\")\n"
   ]
  },
  {
   "cell_type": "code",
   "execution_count": 20,
   "id": "a8f18966-277e-45c6-bdc2-27868adc9540",
   "metadata": {
    "tags": []
   },
   "outputs": [],
   "source": [
    "for rank in scores:\n",
    "    values = sorted(scores[rank])\n",
    "    averageScore = average(values)\n",
    "    deviation = standDev(values, averageScore)\n",
    "    result = Analysis(values, averageScore, deviation) \n",
    "    file = open(\"Pickled_Object/SciBert-\" + str(rank), \"wb\")\n",
    "    pickle.dump(result, file)\n",
    "    export(values, averageScore, deviation)\n"
   ]
  }
 ],
 "metadata": {
  "kernelspec": {
   "display_name": "Python 3 (ipykernel)",
   "language": "python",
   "name": "python3"
  },
  "language_info": {
   "codemirror_mode": {
    "name": "ipython",
    "version": 3
   },
   "file_extension": ".py",
   "mimetype": "text/x-python",
   "name": "python",
   "nbconvert_exporter": "python",
   "pygments_lexer": "ipython3",
   "version": "3.8.10"
  }
 },
 "nbformat": 4,
 "nbformat_minor": 5
}
