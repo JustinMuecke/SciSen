{
 "cells": [
  {
   "cell_type": "code",
   "execution_count": 1,
   "id": "cf39bba0",
   "metadata": {},
   "outputs": [],
   "source": [
    "import json\n",
    "import gzip\n",
    "import pandas as pd\n",
    "import numpy as np"
   ]
  },
  {
   "cell_type": "markdown",
   "id": "dad72663-fed0-4562-98c5-ea479c90a4a6",
   "metadata": {
    "tags": []
   },
   "source": [
    "### load dataset with promising papers"
   ]
  },
  {
   "cell_type": "code",
   "execution_count": 2,
   "id": "27842410",
   "metadata": {},
   "outputs": [],
   "source": [
    "import os.path\n",
    "\n",
    "if (not os.path.exists(r'./papers-with-abstracts.json.gz')):\n",
    "    import requests\n",
    "    #decide on the original dataset or the state for our experiements\n",
    "    URL = \"https://production-media.paperswithcode.com/about/papers-with-abstracts.json.gz\"\n",
    "    URL = \"https://cloudstore.uni-ulm.de/s/CfX2AYANtf6HF6T/download/papers-with-abstracts.json.gz\"\n",
    "    response = requests.get(URL)\n",
    "    open(\"./papers-with-abstracts.json.gz\", \"wb\").write(response.content)\n",
    "\n",
    "f = gzip.open(r'./papers-with-abstracts.json.gz')\n",
    "papersAbstract = json.load(f)"
   ]
  },
  {
   "cell_type": "markdown",
   "id": "dfade4ec-2679-4e2f-852e-aeb8f968547f",
   "metadata": {
    "tags": []
   },
   "source": [
    "### pre sort papers"
   ]
  },
  {
   "cell_type": "code",
   "execution_count": 3,
   "id": "8c492f79",
   "metadata": {},
   "outputs": [
    {
     "name": "stdout",
     "output_type": "stream",
     "text": [
      "Papers_with_Code:  307318\n",
      "With Laetx:  250324\n",
      "Papers with Conference 33575\n"
     ]
    },
    {
     "data": {
      "text/html": [
       "<div>\n",
       "<style scoped>\n",
       "    .dataframe tbody tr th:only-of-type {\n",
       "        vertical-align: middle;\n",
       "    }\n",
       "\n",
       "    .dataframe tbody tr th {\n",
       "        vertical-align: top;\n",
       "    }\n",
       "\n",
       "    .dataframe thead th {\n",
       "        text-align: right;\n",
       "    }\n",
       "</style>\n",
       "<table border=\"1\" class=\"dataframe\">\n",
       "  <thead>\n",
       "    <tr style=\"text-align: right;\">\n",
       "      <th></th>\n",
       "      <th>paper_url</th>\n",
       "      <th>arxiv_id</th>\n",
       "      <th>title</th>\n",
       "      <th>abstract</th>\n",
       "      <th>url_abs</th>\n",
       "      <th>url_pdf</th>\n",
       "      <th>proceeding</th>\n",
       "      <th>authors</th>\n",
       "      <th>tasks</th>\n",
       "      <th>date</th>\n",
       "      <th>methods</th>\n",
       "    </tr>\n",
       "  </thead>\n",
       "  <tbody>\n",
       "    <tr>\n",
       "      <th>0</th>\n",
       "      <td>https://paperswithcode.com/paper/dynamic-netwo...</td>\n",
       "      <td>1805.10616</td>\n",
       "      <td>Dynamic Network Model from Partial Observations</td>\n",
       "      <td>Can evolving networks be inferred and modeled ...</td>\n",
       "      <td>http://arxiv.org/abs/1805.10616v4</td>\n",
       "      <td>http://arxiv.org/pdf/1805.10616v4.pdf</td>\n",
       "      <td>NeurIPS 2018 12</td>\n",
       "      <td>[Elahe Ghalebi, Baharan Mirzasoleiman, Radu Gr...</td>\n",
       "      <td>[]</td>\n",
       "      <td>2018-05-27</td>\n",
       "      <td>[]</td>\n",
       "    </tr>\n",
       "  </tbody>\n",
       "</table>\n",
       "</div>"
      ],
      "text/plain": [
       "                                           paper_url    arxiv_id  \\\n",
       "0  https://paperswithcode.com/paper/dynamic-netwo...  1805.10616   \n",
       "\n",
       "                                             title  \\\n",
       "0  Dynamic Network Model from Partial Observations   \n",
       "\n",
       "                                            abstract  \\\n",
       "0  Can evolving networks be inferred and modeled ...   \n",
       "\n",
       "                             url_abs                                url_pdf  \\\n",
       "0  http://arxiv.org/abs/1805.10616v4  http://arxiv.org/pdf/1805.10616v4.pdf   \n",
       "\n",
       "        proceeding                                            authors tasks  \\\n",
       "0  NeurIPS 2018 12  [Elahe Ghalebi, Baharan Mirzasoleiman, Radu Gr...    []   \n",
       "\n",
       "         date methods  \n",
       "0  2018-05-27      []  "
      ]
     },
     "execution_count": 3,
     "metadata": {},
     "output_type": "execute_result"
    }
   ],
   "source": [
    "df =pd.DataFrame(papersAbstract)\n",
    "print('Papers_with_Code: ',len(df))\n",
    "df = df.loc[df['arxiv_id'].dropna().index] #only arxiv papers because they should have Latex\n",
    "print('With Laetx: ',len(df))\n",
    "df = df.loc[df['proceeding'].dropna().index] #only papers with a coresponding conference\n",
    "print('Papers with Conference',len(df))\n",
    "df[:1]"
   ]
  },
  {
   "cell_type": "markdown",
   "id": "1e423135-a5d8-4d83-a2aa-2e713aeb0f45",
   "metadata": {
    "tags": []
   },
   "source": [
    "### statistics about conferences"
   ]
  },
  {
   "cell_type": "code",
   "execution_count": 4,
   "id": "a38b3b3d",
   "metadata": {},
   "outputs": [
    {
     "name": "stdout",
     "output_type": "stream",
     "text": [
      "742 unique conferences considering years\n",
      "422 unique conferences without year\n"
     ]
    }
   ],
   "source": [
    "unique_conferences = df['proceeding'].unique()\n",
    "print(len(unique_conferences),'unique conferences considering years',)\n",
    "\n",
    "def remove_digits(s):\n",
    "    return str.strip(''.join([i for i in s if not i.isdigit()]))\n",
    "#Conferences without year\n",
    "print(len(pd.unique(list(map(remove_digits,unique_conferences)))),'unique conferences without year',)"
   ]
  },
  {
   "cell_type": "code",
   "execution_count": 5,
   "id": "a502302c",
   "metadata": {},
   "outputs": [
    {
     "name": "stdout",
     "output_type": "stream",
     "text": [
      "58 good conferences\n"
     ]
    }
   ],
   "source": [
    "if (not os.path.exists(r'CORE_Conference_Rankings.csv')):\n",
    "    import requests\n",
    "    URL = \"https://cloudstore.uni-ulm.de/s/tbWedrwZ4bTR34x/download/CORE_Conference_Rankings.csv\"\n",
    "    response = requests.get(URL)\n",
    "    open(\"CORE_Conference_Rankings.csv\", \"wb\").write(response.content)\n",
    "\n",
    "conferences = pd.read_csv(r'CORE_Conference_Rankings.csv')\n",
    "#good conferences\n",
    "conferences = conferences[conferences['Rank'].isin(['A*'])] #['A*','A','B']\n",
    "conferences = conferences['Acronym'].unique()\n",
    "print(len(conferences),'good conferences')\n",
    "#conferences"
   ]
  },
  {
   "cell_type": "markdown",
   "id": "adfbcc2d-a949-4fdc-bccc-e7037460124d",
   "metadata": {
    "tags": []
   },
   "source": [
    "### select only papers with relevant conferences"
   ]
  },
  {
   "cell_type": "code",
   "execution_count": 6,
   "id": "6610717c",
   "metadata": {},
   "outputs": [
    {
     "name": "stdout",
     "output_type": "stream",
     "text": [
      "NeurIPS   6420\n",
      "ACL   2619\n",
      "ECCV   1482\n",
      "CVPR   6485\n",
      "ICCV   2460\n",
      "ICLR   3224\n",
      "ICML   1584\n",
      "AAAI   27\n"
     ]
    }
   ],
   "source": [
    "def is_renowend(proceeding,conf):\n",
    "    conferences = [conf]#['CCS']#TODO insert renowend conferences here\n",
    "    for conference in conferences:\n",
    "        if ' '+conference+' ' in [' '+x+' ' for x in proceeding.split(' ')]:\n",
    "            return True\n",
    "    return False\n",
    "\n",
    "#short version\n",
    "#df[df['proceeding'].apply(lambda x: is_renowend(x))]\n",
    "\n",
    "#also get relevant conferences\n",
    "for conf in conferences:\n",
    "    papers = list(df['arxiv_id'][df['proceeding'].apply(lambda x: is_renowend(x,conf))])\n",
    "    papers.sort()\n",
    "    if(len(papers)>10):\n",
    "        print(conf,' ',len(papers))"
   ]
  },
  {
   "cell_type": "code",
   "execution_count": 8,
   "id": "44312924",
   "metadata": {
    "scrolled": true
   },
   "outputs": [
    {
     "data": {
      "text/html": [
       "<div>\n",
       "<style scoped>\n",
       "    .dataframe tbody tr th:only-of-type {\n",
       "        vertical-align: middle;\n",
       "    }\n",
       "\n",
       "    .dataframe tbody tr th {\n",
       "        vertical-align: top;\n",
       "    }\n",
       "\n",
       "    .dataframe thead th {\n",
       "        text-align: right;\n",
       "    }\n",
       "</style>\n",
       "<table border=\"1\" class=\"dataframe\">\n",
       "  <thead>\n",
       "    <tr style=\"text-align: right;\">\n",
       "      <th></th>\n",
       "      <th>paper_url</th>\n",
       "      <th>arxiv_id</th>\n",
       "      <th>title</th>\n",
       "      <th>abstract</th>\n",
       "      <th>url_abs</th>\n",
       "      <th>url_pdf</th>\n",
       "      <th>proceeding</th>\n",
       "      <th>authors</th>\n",
       "      <th>tasks</th>\n",
       "      <th>date</th>\n",
       "      <th>methods</th>\n",
       "    </tr>\n",
       "  </thead>\n",
       "  <tbody>\n",
       "    <tr>\n",
       "      <th>0</th>\n",
       "      <td>https://paperswithcode.com/paper/dynamic-netwo...</td>\n",
       "      <td>1805.10616</td>\n",
       "      <td>Dynamic Network Model from Partial Observations</td>\n",
       "      <td>Can evolving networks be inferred and modeled ...</td>\n",
       "      <td>http://arxiv.org/abs/1805.10616v4</td>\n",
       "      <td>http://arxiv.org/pdf/1805.10616v4.pdf</td>\n",
       "      <td>NeurIPS 2018 12</td>\n",
       "      <td>[Elahe Ghalebi, Baharan Mirzasoleiman, Radu Gr...</td>\n",
       "      <td>[]</td>\n",
       "      <td>2018-05-27</td>\n",
       "      <td>[]</td>\n",
       "    </tr>\n",
       "    <tr>\n",
       "      <th>1</th>\n",
       "      <td>https://paperswithcode.com/paper/pac-bayes-bou...</td>\n",
       "      <td>1806.06827</td>\n",
       "      <td>PAC-Bayes bounds for stable algorithms with in...</td>\n",
       "      <td>PAC-Bayes bounds have been proposed to get ris...</td>\n",
       "      <td>http://arxiv.org/abs/1806.06827v2</td>\n",
       "      <td>http://arxiv.org/pdf/1806.06827v2.pdf</td>\n",
       "      <td>NeurIPS 2018 12</td>\n",
       "      <td>[Omar Rivasplata, Emilio Parrado-Hernandez, Jo...</td>\n",
       "      <td>[]</td>\n",
       "      <td>2018-06-18</td>\n",
       "      <td>[{'name': 'SVM', 'full_name': 'Support Vector ...</td>\n",
       "    </tr>\n",
       "    <tr>\n",
       "      <th>3</th>\n",
       "      <td>https://paperswithcode.com/paper/gradient-desc...</td>\n",
       "      <td>1802.06093</td>\n",
       "      <td>Gradient descent with identity initialization ...</td>\n",
       "      <td>We analyze algorithms for approximating a func...</td>\n",
       "      <td>http://arxiv.org/abs/1802.06093v4</td>\n",
       "      <td>http://arxiv.org/pdf/1802.06093v4.pdf</td>\n",
       "      <td>ICML 2018</td>\n",
       "      <td>[Peter L. Bartlett, David P. Helmbold, Philip ...</td>\n",
       "      <td>[]</td>\n",
       "      <td>2018-02-16</td>\n",
       "      <td>[]</td>\n",
       "    </tr>\n",
       "    <tr>\n",
       "      <th>11</th>\n",
       "      <td>https://paperswithcode.com/paper/bingan-learni...</td>\n",
       "      <td>1806.06778</td>\n",
       "      <td>BinGAN: Learning Compact Binary Descriptors wi...</td>\n",
       "      <td>In this paper, we propose a novel regularizati...</td>\n",
       "      <td>http://arxiv.org/abs/1806.06778v5</td>\n",
       "      <td>http://arxiv.org/pdf/1806.06778v5.pdf</td>\n",
       "      <td>NeurIPS 2018 12</td>\n",
       "      <td>[Maciej Zieba, Piotr Semberecki, Tarek El-Gaal...</td>\n",
       "      <td>[Dimensionality Reduction]</td>\n",
       "      <td>2018-06-18</td>\n",
       "      <td>[]</td>\n",
       "    </tr>\n",
       "    <tr>\n",
       "      <th>17</th>\n",
       "      <td>https://paperswithcode.com/paper/a-memory-netw...</td>\n",
       "      <td>1805.02838</td>\n",
       "      <td>A Memory Network Approach for Story-based Temp...</td>\n",
       "      <td>We address the problem of story-based temporal...</td>\n",
       "      <td>http://arxiv.org/abs/1805.02838v3</td>\n",
       "      <td>http://arxiv.org/pdf/1805.02838v3.pdf</td>\n",
       "      <td>CVPR 2018</td>\n",
       "      <td>[Sang-ho Lee, Jinyoung Sung, Youngjae Yu, Gunh...</td>\n",
       "      <td>[Video Summarization]</td>\n",
       "      <td>2018-05-08</td>\n",
       "      <td>[{'name': 'Memory Network', 'full_name': 'Memo...</td>\n",
       "    </tr>\n",
       "    <tr>\n",
       "      <th>...</th>\n",
       "      <td>...</td>\n",
       "      <td>...</td>\n",
       "      <td>...</td>\n",
       "      <td>...</td>\n",
       "      <td>...</td>\n",
       "      <td>...</td>\n",
       "      <td>...</td>\n",
       "      <td>...</td>\n",
       "      <td>...</td>\n",
       "      <td>...</td>\n",
       "      <td>...</td>\n",
       "    </tr>\n",
       "    <tr>\n",
       "      <th>305109</th>\n",
       "      <td>https://paperswithcode.com/paper/how-much-more...</td>\n",
       "      <td>2207.01725</td>\n",
       "      <td>How Much More Data Do I Need? Estimating Requi...</td>\n",
       "      <td>Given a small training data set and a learning...</td>\n",
       "      <td>https://arxiv.org/abs/2207.01725v2</td>\n",
       "      <td>https://arxiv.org/pdf/2207.01725v2.pdf</td>\n",
       "      <td>CVPR 2022 1</td>\n",
       "      <td>[Rafid Mahmood, James Lucas, David Acuna, Daiq...</td>\n",
       "      <td>[Autonomous Driving]</td>\n",
       "      <td>2022-07-04</td>\n",
       "      <td>[]</td>\n",
       "    </tr>\n",
       "    <tr>\n",
       "      <th>305454</th>\n",
       "      <td>https://paperswithcode.com/paper/finding-falle...</td>\n",
       "      <td>2207.03483</td>\n",
       "      <td>Finding Fallen Objects Via Asynchronous Audio-...</td>\n",
       "      <td>The way an object looks and sounds provide com...</td>\n",
       "      <td>https://arxiv.org/abs/2207.03483v1</td>\n",
       "      <td>https://arxiv.org/pdf/2207.03483v1.pdf</td>\n",
       "      <td>CVPR 2022 1</td>\n",
       "      <td>[Chuang Gan, Yi Gu, Siyuan Zhou, Jeremy Schwar...</td>\n",
       "      <td>[Imitation Learning, Object Localization]</td>\n",
       "      <td>2022-07-07</td>\n",
       "      <td>[]</td>\n",
       "    </tr>\n",
       "    <tr>\n",
       "      <th>306490</th>\n",
       "      <td>https://paperswithcode.com/paper/demystifying-...</td>\n",
       "      <td>2207.03574</td>\n",
       "      <td>Demystifying the Adversarial Robustness of Ran...</td>\n",
       "      <td>Neural networks' lack of robustness against at...</td>\n",
       "      <td>https://arxiv.org/abs/2207.03574v1</td>\n",
       "      <td>https://arxiv.org/pdf/2207.03574v1.pdf</td>\n",
       "      <td>AAAI Workshop AdvML 2022 2</td>\n",
       "      <td>[Chawin Sitawarin, Zachary Golan-Strieb, David...</td>\n",
       "      <td>[Adversarial Robustness, Autonomous Vehicles]</td>\n",
       "      <td>2022-06-18</td>\n",
       "      <td>[{'name': 'Softmax', 'full_name': 'Softmax', '...</td>\n",
       "    </tr>\n",
       "    <tr>\n",
       "      <th>306662</th>\n",
       "      <td>https://paperswithcode.com/paper/gradual-domai...</td>\n",
       "      <td>2207.04587</td>\n",
       "      <td>Gradual Domain Adaptation without Indexed Inte...</td>\n",
       "      <td>The effectiveness of unsupervised domain adapt...</td>\n",
       "      <td>https://arxiv.org/abs/2207.04587v1</td>\n",
       "      <td>https://arxiv.org/pdf/2207.04587v1.pdf</td>\n",
       "      <td>NeurIPS 2021 12</td>\n",
       "      <td>[Hong-You Chen, Wei-Lun Chao]</td>\n",
       "      <td>[Domain Adaptation, Unsupervised Domain Adapta...</td>\n",
       "      <td>2022-07-11</td>\n",
       "      <td>[]</td>\n",
       "    </tr>\n",
       "    <tr>\n",
       "      <th>307266</th>\n",
       "      <td>https://paperswithcode.com/paper/relaxloss-def...</td>\n",
       "      <td>2207.05801</td>\n",
       "      <td>RelaxLoss: Defending Membership Inference Atta...</td>\n",
       "      <td>As a long-term threat to the privacy of traini...</td>\n",
       "      <td>https://arxiv.org/abs/2207.05801v1</td>\n",
       "      <td>https://arxiv.org/pdf/2207.05801v1.pdf</td>\n",
       "      <td>ICLR 2022 4</td>\n",
       "      <td>[Dingfan Chen, Ning Yu, Mario Fritz]</td>\n",
       "      <td>[]</td>\n",
       "      <td>2022-07-12</td>\n",
       "      <td>[]</td>\n",
       "    </tr>\n",
       "  </tbody>\n",
       "</table>\n",
       "<p>24319 rows × 11 columns</p>\n",
       "</div>"
      ],
      "text/plain": [
       "                                                paper_url    arxiv_id  \\\n",
       "0       https://paperswithcode.com/paper/dynamic-netwo...  1805.10616   \n",
       "1       https://paperswithcode.com/paper/pac-bayes-bou...  1806.06827   \n",
       "3       https://paperswithcode.com/paper/gradient-desc...  1802.06093   \n",
       "11      https://paperswithcode.com/paper/bingan-learni...  1806.06778   \n",
       "17      https://paperswithcode.com/paper/a-memory-netw...  1805.02838   \n",
       "...                                                   ...         ...   \n",
       "305109  https://paperswithcode.com/paper/how-much-more...  2207.01725   \n",
       "305454  https://paperswithcode.com/paper/finding-falle...  2207.03483   \n",
       "306490  https://paperswithcode.com/paper/demystifying-...  2207.03574   \n",
       "306662  https://paperswithcode.com/paper/gradual-domai...  2207.04587   \n",
       "307266  https://paperswithcode.com/paper/relaxloss-def...  2207.05801   \n",
       "\n",
       "                                                    title  \\\n",
       "0         Dynamic Network Model from Partial Observations   \n",
       "1       PAC-Bayes bounds for stable algorithms with in...   \n",
       "3       Gradient descent with identity initialization ...   \n",
       "11      BinGAN: Learning Compact Binary Descriptors wi...   \n",
       "17      A Memory Network Approach for Story-based Temp...   \n",
       "...                                                   ...   \n",
       "305109  How Much More Data Do I Need? Estimating Requi...   \n",
       "305454  Finding Fallen Objects Via Asynchronous Audio-...   \n",
       "306490  Demystifying the Adversarial Robustness of Ran...   \n",
       "306662  Gradual Domain Adaptation without Indexed Inte...   \n",
       "307266  RelaxLoss: Defending Membership Inference Atta...   \n",
       "\n",
       "                                                 abstract  \\\n",
       "0       Can evolving networks be inferred and modeled ...   \n",
       "1       PAC-Bayes bounds have been proposed to get ris...   \n",
       "3       We analyze algorithms for approximating a func...   \n",
       "11      In this paper, we propose a novel regularizati...   \n",
       "17      We address the problem of story-based temporal...   \n",
       "...                                                   ...   \n",
       "305109  Given a small training data set and a learning...   \n",
       "305454  The way an object looks and sounds provide com...   \n",
       "306490  Neural networks' lack of robustness against at...   \n",
       "306662  The effectiveness of unsupervised domain adapt...   \n",
       "307266  As a long-term threat to the privacy of traini...   \n",
       "\n",
       "                                   url_abs  \\\n",
       "0        http://arxiv.org/abs/1805.10616v4   \n",
       "1        http://arxiv.org/abs/1806.06827v2   \n",
       "3        http://arxiv.org/abs/1802.06093v4   \n",
       "11       http://arxiv.org/abs/1806.06778v5   \n",
       "17       http://arxiv.org/abs/1805.02838v3   \n",
       "...                                    ...   \n",
       "305109  https://arxiv.org/abs/2207.01725v2   \n",
       "305454  https://arxiv.org/abs/2207.03483v1   \n",
       "306490  https://arxiv.org/abs/2207.03574v1   \n",
       "306662  https://arxiv.org/abs/2207.04587v1   \n",
       "307266  https://arxiv.org/abs/2207.05801v1   \n",
       "\n",
       "                                       url_pdf                  proceeding  \\\n",
       "0        http://arxiv.org/pdf/1805.10616v4.pdf             NeurIPS 2018 12   \n",
       "1        http://arxiv.org/pdf/1806.06827v2.pdf             NeurIPS 2018 12   \n",
       "3        http://arxiv.org/pdf/1802.06093v4.pdf                   ICML 2018   \n",
       "11       http://arxiv.org/pdf/1806.06778v5.pdf             NeurIPS 2018 12   \n",
       "17       http://arxiv.org/pdf/1805.02838v3.pdf                   CVPR 2018   \n",
       "...                                        ...                         ...   \n",
       "305109  https://arxiv.org/pdf/2207.01725v2.pdf                 CVPR 2022 1   \n",
       "305454  https://arxiv.org/pdf/2207.03483v1.pdf                 CVPR 2022 1   \n",
       "306490  https://arxiv.org/pdf/2207.03574v1.pdf  AAAI Workshop AdvML 2022 2   \n",
       "306662  https://arxiv.org/pdf/2207.04587v1.pdf             NeurIPS 2021 12   \n",
       "307266  https://arxiv.org/pdf/2207.05801v1.pdf                 ICLR 2022 4   \n",
       "\n",
       "                                                  authors  \\\n",
       "0       [Elahe Ghalebi, Baharan Mirzasoleiman, Radu Gr...   \n",
       "1       [Omar Rivasplata, Emilio Parrado-Hernandez, Jo...   \n",
       "3       [Peter L. Bartlett, David P. Helmbold, Philip ...   \n",
       "11      [Maciej Zieba, Piotr Semberecki, Tarek El-Gaal...   \n",
       "17      [Sang-ho Lee, Jinyoung Sung, Youngjae Yu, Gunh...   \n",
       "...                                                   ...   \n",
       "305109  [Rafid Mahmood, James Lucas, David Acuna, Daiq...   \n",
       "305454  [Chuang Gan, Yi Gu, Siyuan Zhou, Jeremy Schwar...   \n",
       "306490  [Chawin Sitawarin, Zachary Golan-Strieb, David...   \n",
       "306662                      [Hong-You Chen, Wei-Lun Chao]   \n",
       "307266               [Dingfan Chen, Ning Yu, Mario Fritz]   \n",
       "\n",
       "                                                    tasks        date  \\\n",
       "0                                                      []  2018-05-27   \n",
       "1                                                      []  2018-06-18   \n",
       "3                                                      []  2018-02-16   \n",
       "11                             [Dimensionality Reduction]  2018-06-18   \n",
       "17                                  [Video Summarization]  2018-05-08   \n",
       "...                                                   ...         ...   \n",
       "305109                               [Autonomous Driving]  2022-07-04   \n",
       "305454          [Imitation Learning, Object Localization]  2022-07-07   \n",
       "306490      [Adversarial Robustness, Autonomous Vehicles]  2022-06-18   \n",
       "306662  [Domain Adaptation, Unsupervised Domain Adapta...  2022-07-11   \n",
       "307266                                                 []  2022-07-12   \n",
       "\n",
       "                                                  methods  \n",
       "0                                                      []  \n",
       "1       [{'name': 'SVM', 'full_name': 'Support Vector ...  \n",
       "3                                                      []  \n",
       "11                                                     []  \n",
       "17      [{'name': 'Memory Network', 'full_name': 'Memo...  \n",
       "...                                                   ...  \n",
       "305109                                                 []  \n",
       "305454                                                 []  \n",
       "306490  [{'name': 'Softmax', 'full_name': 'Softmax', '...  \n",
       "306662                                                 []  \n",
       "307266                                                 []  \n",
       "\n",
       "[24319 rows x 11 columns]"
      ]
     },
     "execution_count": 8,
     "metadata": {},
     "output_type": "execute_result"
    }
   ],
   "source": [
    "def is_renowend(proceeding):\n",
    "    #conferences = ['RE']#['CCS']#TODO insert renowend conferences here\n",
    "    for conference in conferences:\n",
    "        if conference in proceeding.split(' '):\n",
    "            return True\n",
    "    return False\n",
    "df =df[df['proceeding'].apply(lambda x: is_renowend(x))]\n",
    "df\n",
    "#df[df['proceeding'].apply(lambda x: is_renowend(x))]"
   ]
  },
  {
   "cell_type": "code",
   "execution_count": 9,
   "id": "6d42489e",
   "metadata": {},
   "outputs": [],
   "source": [
    "#required to use the URL crawler for manual crawling\n",
    "#df[['arxiv_id','url_abs']].to_csv(r'papers_to_crawl.csv',index=False)"
   ]
  },
  {
   "cell_type": "code",
   "execution_count": 10,
   "id": "4ab65651",
   "metadata": {},
   "outputs": [
    {
     "name": "stdout",
     "output_type": "stream",
     "text": [
      "24319\n",
      "24319\n",
      "['0906.2027', '0909.5457', '1003.0120', '1003.0783', '1006.3316']\n",
      "['2207.01744', '2207.03483', '2207.03574', '2207.04587', '2207.05801']\n"
     ]
    }
   ],
   "source": [
    "#check if . replacement of the crawler works correctly\n",
    "papers = list(df['arxiv_id'])\n",
    "papers.sort()\n",
    "print(len(papers))\n",
    "print(len(set(papers)))\n",
    "print(papers[:5])\n",
    "print(papers[-5:])"
   ]
  },
  {
   "cell_type": "markdown",
   "id": "fcfe1faf-8d9e-4350-be4e-82740b9c6b83",
   "metadata": {
    "tags": []
   },
   "source": [
    "### extract papers (source code) from aws dump "
   ]
  },
  {
   "cell_type": "code",
   "execution_count": 11,
   "id": "696009cc",
   "metadata": {},
   "outputs": [],
   "source": [
    "import tarfile\n",
    "\n",
    "#copy arxiv files from aws-dump to local data\n",
    "def get_relevant_gz_file(arxivTar,arxiv_id):\n",
    "    #declare filename\n",
    "    filename= '/media/sdd/datasets/arxiv/src/'+arxivTar \n",
    " \n",
    "    file_obj= tarfile.open(filename,\"r\")\n",
    "    #extract a file\n",
    "    try:\n",
    "        file = file_obj.extract(arxiv_id.split('.')[0]+'/'+arxiv_id+'.gz',path='/media/sdd/project-scisen/dataset/raw_files-c')\n",
    "    except:\n",
    "        pass \n",
    "        \n",
    "    file_obj.close()\n",
    "\n",
    "#get_relevant_gz_file('arXiv_src_2101_001.tar','2101.00085')\n",
    "#get_relevant_gz_file(test[0],papers[0])"
   ]
  },
  {
   "cell_type": "code",
   "execution_count": 12,
   "id": "ed287206",
   "metadata": {
    "tags": []
   },
   "outputs": [
    {
     "name": "stdout",
     "output_type": "stream",
     "text": [
      "Files that are tar files and no pdf 30717\n",
      "Files that are tar files and no pdf A* 24165\n"
     ]
    }
   ],
   "source": [
    "move_files = False #set this flag to True to extract files from aws dump\n",
    "if move_files:\n",
    "    for paper in papers:\n",
    "        #get tarfiles\n",
    "        tarfiles = [x for x in os.listdir(r'/media/sdd/datasets/arxiv/src') if paper.split('.')[0] in x]\n",
    "        #simple progress indicator\n",
    "        print(paper)\n",
    "        for file in tarfiles:  \n",
    "            get_relevant_gz_file(file,paper)\n",
    "            \n",
    "print('Files that are tar files and no pdf',30717) #find . -type f | wc -l #manually in directory\n",
    "print('Files that are tar files and no pdf A*',24165) #find . -type f | wc -l #manually in directory"
   ]
  },
  {
   "cell_type": "markdown",
   "id": "1c490bac-dc12-4a3b-a2ed-02e7172f5265",
   "metadata": {
    "tags": []
   },
   "source": [
    "### extract latex text from source files into a single file"
   ]
  },
  {
   "cell_type": "code",
   "execution_count": 13,
   "id": "5f0805b9-61ad-4091-8bd5-fda6c034d4cd",
   "metadata": {
    "tags": []
   },
   "outputs": [
    {
     "name": "stdout",
     "output_type": "stream",
     "text": [
      "Files converted to tex files 30505\n"
     ]
    }
   ],
   "source": [
    "abs_path_origin ='/media/sdd/project-scisen/dataset/raw_files-c/' \n",
    "abs_path_target ='/media/sdd/project-scisen/dataset/texfiles-c'\n",
    "\n",
    "extract_files = False\n",
    "if extract_files:\n",
    "    for subdir in os.listdir(abs_path_origin):\n",
    "        #execute Latex extraction script\n",
    "        %run main.py -o {abs_path_target} expand -i {abs_path_origin}{subdir}\n",
    "    \n",
    "print('Files converted to tex files',30505)"
   ]
  },
  {
   "cell_type": "code",
   "execution_count": null,
   "id": "14e40ae4",
   "metadata": {},
   "outputs": [],
   "source": []
  }
 ],
 "metadata": {
  "kernelspec": {
   "display_name": "Python 3 (ipykernel)",
   "language": "python",
   "name": "python3"
  },
  "language_info": {
   "codemirror_mode": {
    "name": "ipython",
    "version": 3
   },
   "file_extension": ".py",
   "mimetype": "text/x-python",
   "name": "python",
   "nbconvert_exporter": "python",
   "pygments_lexer": "ipython3",
   "version": "3.8.10"
  }
 },
 "nbformat": 4,
 "nbformat_minor": 5
}
