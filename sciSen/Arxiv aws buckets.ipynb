{
 "cells": [
  {
   "cell_type": "code",
   "execution_count": 1,
   "id": "8ff6fa83",
   "metadata": {},
   "outputs": [],
   "source": [
    "import pandas as pd\n",
    "import numpy as np"
   ]
  },
  {
   "cell_type": "code",
   "execution_count": 2,
   "id": "b1e88969",
   "metadata": {},
   "outputs": [
    {
     "data": {
      "text/html": [
       "<div>\n",
       "<style scoped>\n",
       "    .dataframe tbody tr th:only-of-type {\n",
       "        vertical-align: middle;\n",
       "    }\n",
       "\n",
       "    .dataframe tbody tr th {\n",
       "        vertical-align: top;\n",
       "    }\n",
       "\n",
       "    .dataframe thead th {\n",
       "        text-align: right;\n",
       "    }\n",
       "</style>\n",
       "<table border=\"1\" class=\"dataframe\">\n",
       "  <thead>\n",
       "    <tr style=\"text-align: right;\">\n",
       "      <th></th>\n",
       "      <th>content_md5sum</th>\n",
       "      <th>filename</th>\n",
       "      <th>first_item</th>\n",
       "      <th>last_item</th>\n",
       "      <th>md5sum</th>\n",
       "      <th>num_items</th>\n",
       "      <th>seq_num</th>\n",
       "      <th>size</th>\n",
       "      <th>timestamp</th>\n",
       "      <th>yymm</th>\n",
       "    </tr>\n",
       "  </thead>\n",
       "  <tbody>\n",
       "    <tr>\n",
       "      <th>0</th>\n",
       "      <td>cacbfede21d5dfef26f367ec99384546</td>\n",
       "      <td>src/arXiv_src_0001_001.tar</td>\n",
       "      <td>astro-ph0001001</td>\n",
       "      <td>quant-ph0001119</td>\n",
       "      <td>949ae880fbaf4649a485a8d9e07f370b</td>\n",
       "      <td>2364.0</td>\n",
       "      <td>1.0</td>\n",
       "      <td>225605507.0</td>\n",
       "      <td>2010-12-23 00:13:59</td>\n",
       "      <td>1.0</td>\n",
       "    </tr>\n",
       "    <tr>\n",
       "      <th>1</th>\n",
       "      <td>d90df481661ccdd7e8be883796539743</td>\n",
       "      <td>src/arXiv_src_0002_001.tar</td>\n",
       "      <td>astro-ph0002001</td>\n",
       "      <td>quant-ph0002094</td>\n",
       "      <td>4592ab506cf775afecf4ad560d982a00</td>\n",
       "      <td>2365.0</td>\n",
       "      <td>1.0</td>\n",
       "      <td>227036528.0</td>\n",
       "      <td>2010-12-23 00:18:09</td>\n",
       "      <td>2.0</td>\n",
       "    </tr>\n",
       "    <tr>\n",
       "      <th>2</th>\n",
       "      <td>3388afd7bfb2dfd9d3f3e6b353357b33</td>\n",
       "      <td>src/arXiv_src_0003_001.tar</td>\n",
       "      <td>astro-ph0003001</td>\n",
       "      <td>quant-ph0003151</td>\n",
       "      <td>b5bf5e52ae8532cdf82b606b42df16ea</td>\n",
       "      <td>2600.0</td>\n",
       "      <td>1.0</td>\n",
       "      <td>230986882.0</td>\n",
       "      <td>2010-12-23 00:22:15</td>\n",
       "      <td>3.0</td>\n",
       "    </tr>\n",
       "  </tbody>\n",
       "</table>\n",
       "</div>"
      ],
      "text/plain": [
       "                     content_md5sum                    filename  \\\n",
       "0  cacbfede21d5dfef26f367ec99384546  src/arXiv_src_0001_001.tar   \n",
       "1  d90df481661ccdd7e8be883796539743  src/arXiv_src_0002_001.tar   \n",
       "2  3388afd7bfb2dfd9d3f3e6b353357b33  src/arXiv_src_0003_001.tar   \n",
       "\n",
       "        first_item        last_item                            md5sum  \\\n",
       "0  astro-ph0001001  quant-ph0001119  949ae880fbaf4649a485a8d9e07f370b   \n",
       "1  astro-ph0002001  quant-ph0002094  4592ab506cf775afecf4ad560d982a00   \n",
       "2  astro-ph0003001  quant-ph0003151  b5bf5e52ae8532cdf82b606b42df16ea   \n",
       "\n",
       "   num_items  seq_num         size            timestamp  yymm  \n",
       "0     2364.0      1.0  225605507.0  2010-12-23 00:13:59   1.0  \n",
       "1     2365.0      1.0  227036528.0  2010-12-23 00:18:09   2.0  \n",
       "2     2600.0      1.0  230986882.0  2010-12-23 00:22:15   3.0  "
      ]
     },
     "execution_count": 2,
     "metadata": {},
     "output_type": "execute_result"
    }
   ],
   "source": [
    "buckets = pd.read_xml(r'arXiv_src_manifest.xml')\n",
    "buckets[:3]"
   ]
  },
  {
   "cell_type": "code",
   "execution_count": 3,
   "id": "08038dd4",
   "metadata": {},
   "outputs": [
    {
     "name": "stdout",
     "output_type": "stream",
     "text": [
      "2566874319031.0  size in bytes\n",
      "2058527.0  papers\n",
      "4919  buckets\n"
     ]
    }
   ],
   "source": [
    "size = np.sum(buckets['size']) #in bytes\n",
    "print(size, ' size in bytes')\n",
    "print(np.sum(buckets['num_items']), ' papers')\n",
    "print(len(buckets), ' buckets')"
   ]
  },
  {
   "cell_type": "code",
   "execution_count": 4,
   "id": "797b533d",
   "metadata": {},
   "outputs": [
    {
     "name": "stdout",
     "output_type": "stream",
     "text": [
      "215.15291995628735 $\n",
      "204.39527395847298 €\n"
     ]
    }
   ],
   "source": [
    "cost = (size/1024/1024/1024)*0.09 #$/GB\n",
    "print(cost, '$') \n",
    "print(cost*0.95, '€') #conversion to €"
   ]
  }
 ],
 "metadata": {
  "kernelspec": {
   "display_name": "Python 3 (ipykernel)",
   "language": "python",
   "name": "python3"
  },
  "language_info": {
   "codemirror_mode": {
    "name": "ipython",
    "version": 3
   },
   "file_extension": ".py",
   "mimetype": "text/x-python",
   "name": "python",
   "nbconvert_exporter": "python",
   "pygments_lexer": "ipython3",
   "version": "3.8.10"
  }
 },
 "nbformat": 4,
 "nbformat_minor": 5
}
